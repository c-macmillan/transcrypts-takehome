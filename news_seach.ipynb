{
 "cells": [
  {
   "attachments": {},
   "cell_type": "markdown",
   "metadata": {},
   "source": [
    "### Semantic News Search\n",
    "This will allow users to enter a prompt about what news they are interested in and then will output the most similar articles found using the Media Stack API\n",
    "##### Methodology\n",
    "1. User enters a prompt\n",
    "2. A few-shot prompt identifies the parameters found in the users input that can be used for the Media Stack API call\n",
    "3. Process the LLM output to turn it into the appropriate format for the Media Stack API\n",
    "4. Validate the API call to make sure the LLM is not adding incorrect or invalid parameters\n",
    "5. Call the API and get the top responses from Media Stack\n",
    "6. Calculate the similarity between the User Input and each Article\n",
    "7. Display the most similar articles as the final response"
   ]
  },
  {
   "cell_type": "code",
   "execution_count": 5,
   "metadata": {},
   "outputs": [],
   "source": [
    "## Import the libraries\n",
    "from langchain import PromptTemplate, FewShotPromptTemplate, HuggingFaceHub\n",
    "from langchain.chains import LLMChain\n",
    "from sentence_transformers import SentenceTransformer, util\n",
    "import numpy as np\n",
    "import torch\n",
    "import os\n",
    "from IPython.display import Markdown as md\n",
    "from mediastack import get_news"
   ]
  },
  {
   "cell_type": "code",
   "execution_count": 6,
   "metadata": {},
   "outputs": [],
   "source": [
    "USER_INPUT = \"What are new AI and technology achievements?\"\n",
    "number_of_articles_to_display = 5\n",
    "API_TOKEN = os.getenv(\"HUGGINGFACE_API_TOKEN\")\n",
    "## If you do not have a HuggingFace API Token, you can create one for free fairly easily, I'm sticking to free LLMs for this project\n",
    "##   This limits me to only use an LLM that is fairly small (<10GB), so using a more advanced LLM would ensure better results\n",
    "##   Note: adding an API token into a notebook is not the standard practice since it is not secure, I can also send you mine if you need it\n"
   ]
  },
  {
   "cell_type": "code",
   "execution_count": 8,
   "metadata": {},
   "outputs": [],
   "source": [
    "llm = HuggingFaceHub(repo_id=\"bigscience/bloom\", huggingfacehub_api_token = API_TOKEN)"
   ]
  },
  {
   "attachments": {},
   "cell_type": "markdown",
   "metadata": {},
   "source": [
    "I chose to use BLOOM since it performed the best at extracting the parameters compared to the other freely available LLMs.\n",
    "\n",
    "A few-shot prompt works well here since it allows me to have more control over the output of the model, which helps make sure that the output can be parsed properly and doesn't include incorrect parameters."
   ]
  },
  {
   "cell_type": "code",
   "execution_count": 19,
   "metadata": {},
   "outputs": [],
   "source": [
    "available_parameters = \"\"\"\n",
    "categories must be taken from this list : [ general, business, entertainment, health, science, sports, technology ]\n",
    "categories can be excluded by prefixing a '-', such as -entertainment to exclude entertainment.\n",
    "\"\"\"\n",
    "examples = [\n",
    "    { \"input\": \"I want to know about new technologies that companies are using to make money\",\n",
    "     \"parameters\":\"\"\"\n",
    "    categories:technology,business\n",
    "    keywords:new technologies money\"\"\"\n",
    "       },\n",
    "\n",
    "    { \"input\": \"Give me news about achievements in health science\",\n",
    "     \"parameters\":\"\"\"\n",
    "    categories:health,science\",\n",
    "    keywords:health science achievements\"\"\"\n",
    "       },\n",
    "\n",
    "    { \"input\": \"What are the best non-sports movies to go see in theaters now\",\n",
    "     \"parameters\":\"\"\"\n",
    "    categories:entertainment,-sports\",\n",
    "    keywords:movies theaters\"\"\"\n",
    "       },\n",
    "       \n",
    "]\n",
    "\n",
    "example_template = \"\"\"\n",
    "input: {input},\n",
    "parameters: {parameters}\\n\"\"\"\n",
    "\n",
    "example_prompt = PromptTemplate(input_variables=['input','parameters'], template=example_template)\n",
    "\n",
    "parameter_parser_template = FewShotPromptTemplate(\n",
    "    examples = examples,\n",
    "    example_prompt=example_prompt,\n",
    "    prefix = f\"Extract the parameters out of the user's prompt and output the parameters in json format. The parameters should include categories and keywords. {available_parameters}\",\n",
    "    suffix=\"input: {input}\\nparameters:\",\n",
    "    input_variables=[\"input\"],\n",
    "    example_separator=\"\\n\"\n",
    ")"
   ]
  },
  {
   "cell_type": "code",
   "execution_count": 20,
   "metadata": {},
   "outputs": [
    {
     "name": "stdout",
     "output_type": "stream",
     "text": [
      "Here is the prompt that will extract the parameters from the user's input:\n",
      "\n",
      "\n",
      "Extract the parameters out of the user's prompt and output the parameters in json format. The parameters should include categories and keywords. \n",
      "categories must be taken from this list : [ general, business, entertainment, health, science, sports, technology ]\n",
      "categories can be excluded by prefixing a '-', such as -entertainment to exclude entertainment.\n",
      "\n",
      "\n",
      "input: I want to know about new technologies that companies are using to make money,\n",
      "parameters: \n",
      "    categories:technology,business\n",
      "    keywords:new technologies money\n",
      "\n",
      "\n",
      "input: Give me news about achievements in health science,\n",
      "parameters: \n",
      "    categories:health,science\",\n",
      "    keywords:health science achievements\n",
      "\n",
      "\n",
      "input: What are the best non-sports movies to go see in theaters now,\n",
      "parameters: \n",
      "    categories:entertainment,-sports\",\n",
      "    keywords:movies theaters\n",
      "\n",
      "input: What are new AI and technology achievements?\n",
      "parameters:\n"
     ]
    }
   ],
   "source": [
    "print(\"Here is the prompt that will extract the parameters from the user's input:\\n\\n\")\n",
    "print(parameter_parser_template.format(input=USER_INPUT))"
   ]
  },
  {
   "cell_type": "code",
   "execution_count": 21,
   "metadata": {},
   "outputs": [],
   "source": [
    "chain = LLMChain(llm=llm, prompt = parameter_parser_template)\n",
    "parameters = chain.run(USER_INPUT)"
   ]
  },
  {
   "cell_type": "code",
   "execution_count": 22,
   "metadata": {},
   "outputs": [],
   "source": [
    "## After calling the LLM I parse the response to turn it into the parameters to call the media stack API and retrieve the relevant news articles\n",
    "params = {}\n",
    "for param in parameters.strip().strip().split(\"\\n\"):\n",
    "    vals = param.split(\":\")\n",
    "    if len(vals) == 2:\n",
    "        params[vals[0].strip()] = vals[1].strip()"
   ]
  },
  {
   "cell_type": "code",
   "execution_count": 23,
   "metadata": {},
   "outputs": [
    {
     "name": "stdout",
     "output_type": "stream",
     "text": [
      "Here are the parameters extracted from the user prompt and then sent to the API\n",
      "{'categories': 'technology,general', 'keywords': 'ai technology achievements'}\n"
     ]
    }
   ],
   "source": [
    "print(\"Here are the parameters extracted from the user prompt and then sent to the API\")\n",
    "print(params)\n",
    "## Retrieve the top news stories that fit the parameters\n",
    "## The get_news helper function that I made also includes some validation of the parameters to help ensure I'm not making bad API calls\n",
    "news = get_news(params)"
   ]
  },
  {
   "cell_type": "code",
   "execution_count": 24,
   "metadata": {},
   "outputs": [],
   "source": [
    "## Here I am using all-MiniLM-L6-v2 to get the embeddings to find the articles most similar to the users input\n",
    "model = SentenceTransformer(\"all-MiniLM-L6-v2\")\n",
    "embeddings = [model.encode(article[\"title\"] +\" \"+ article[\"description\"]) for article in news]\n",
    "article_embeddings = np.array(embeddings)\n",
    "user_embedding = model.encode(USER_INPUT)\n",
    "similarity = util.cos_sim(user_embedding, article_embeddings)\n",
    "article_idxs = torch.topk(similarity, number_of_articles_to_display).indices.numpy()"
   ]
  },
  {
   "cell_type": "code",
   "execution_count": 25,
   "metadata": {},
   "outputs": [],
   "source": [
    "results = []\n",
    "for idx in article_idxs[0]:\n",
    "    author = news[idx]['author']\n",
    "    result_card = f\"### {news[idx]['title']}\\n\\n{news[idx]['description']}\\n\\n[Read Full Article]({news[idx]['url'].strip('<').strip('>')}) by {author if author is not None else news[idx]['source']}\"\n",
    "    results.append(result_card)"
   ]
  },
  {
   "cell_type": "code",
   "execution_count": 26,
   "metadata": {},
   "outputs": [
    {
     "name": "stdout",
     "output_type": "stream",
     "text": [
      "Based on the User input of: \"What are new AI and technology achievements?\" here are the top results:\n"
     ]
    },
    {
     "data": {
      "text/markdown": [
       "### DeepMind Co-Founder Wants the ‘New Turing Test’ to Be Based on How Good an AI Is at Getting Rich\n",
       "\n",
       "With artificial intelligence hype leaving venture capitalist firms foaming at the mouth, ready to buy into any new company that sticks an “A” and “I” in its name, we sure as hell need a new way of defining what constitutes an AI. The Turing Test fails to define real intelligence in today’s world of large language…Read more...\n",
       "\n",
       "[Read Full Article](https://gizmodo.com/deepmind-suleyman-new-turing-test-make-money-1850557322) by Kyle Barr\n",
       "\n",
       "_________________________________________________\n",
       "### AI could change the future of yogurt—and turn Danone around\n",
       "\n",
       "Making the yogurt of the future requires a cast of 21st-century helpers: machine learning, gut science and even a mysterious artificial stomach.\n",
       "\n",
       "[Read Full Article](https://phys.org/news/2023-06-ai-future-yogurtand-danone.html) by physorg\n",
       "\n",
       "_________________________________________________\n",
       "### NTIA Publishes Over 1,400 Comments on Proposed AI Accountability Policy\n",
       "\n",
       "More than 1,400 written responses were received by the National Telecommunications and Information Administration commenting on its draft artificial intelligence accountability policy. The comments have been published two months after NTIA issued its request for feedback, which will help shape its policy recommendations to ensure earned trust in AI technology. The agency drafted the AI Accountability Policy in an aim to guide the development of assessments, audits, and certifications of AI systems. The document is part of a larger effort by the Biden administration to govern AI-related risks...\n",
       "\n",
       "[Read Full Article](https://executivegov.com/2023/06/ntia-publishes-over-1400-comments-on-proposed-ai-accountability-policy/) by Jamie Bennet\n",
       "\n",
       "_________________________________________________\n",
       "### AI's Impact on Job Market Remains a Mystery, But Rise of Internet May Have Some Clues\n",
       "\n",
       "Wes Cummins, CEO, Applied Digital, joined TheStreet to discuss how artificial intelligence will impact the job market.\n",
       "\n",
       "[Read Full Article](https://www.thestreet.com/investing/ais-impact-on-job-market-remains-a-mystery-but-rise-of-internet-may-have-some-clues) by Rebecca Mezistrano\n",
       "\n",
       "_________________________________________________\n",
       "### President Biden visits Bay Area, uses social media as cautionary tale to guide AI laws\n",
       "\n",
       "Worries that government and tech firms will move to slowly on the new generative AI have arisen as the cutting-edge technology makes lightning-fast inroads into many aspects of life and commerce.\n",
       "\n",
       "[Read Full Article](https://www.mercurynews.com/2023/06/20/president-biden-visits-bay-area-uses-social-media-as-cautionary-tale-to-guide-ai-laws/) by Elissa Miolene, Ethan Baron"
      ],
      "text/plain": [
       "<IPython.core.display.Markdown object>"
      ]
     },
     "execution_count": 26,
     "metadata": {},
     "output_type": "execute_result"
    }
   ],
   "source": [
    "print(f'Based on the User input of: \"{USER_INPUT}\" here are the top results:')\n",
    "md(\"\\n\\n_________________________________________________\\n\".join(results))"
   ]
  },
  {
   "cell_type": "code",
   "execution_count": null,
   "metadata": {},
   "outputs": [],
   "source": []
  }
 ],
 "metadata": {
  "kernelspec": {
   "display_name": "transcrypt",
   "language": "python",
   "name": "python3"
  },
  "language_info": {
   "codemirror_mode": {
    "name": "ipython",
    "version": 3
   },
   "file_extension": ".py",
   "mimetype": "text/x-python",
   "name": "python",
   "nbconvert_exporter": "python",
   "pygments_lexer": "ipython3",
   "version": "3.11.4"
  },
  "orig_nbformat": 4
 },
 "nbformat": 4,
 "nbformat_minor": 2
}
