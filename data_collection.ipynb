{
 "cells": [
  {
   "attachments": {},
   "cell_type": "markdown",
   "metadata": {},
   "source": [
    "#### Data Collection\n",
    "Here I am going to collect data from the MediaStack API to be able to fine-tune the GPT-2 model"
   ]
  },
  {
   "cell_type": "code",
   "execution_count": 1,
   "metadata": {},
   "outputs": [],
   "source": [
    "import pandas as pd\n",
    "from mediastack import get_news"
   ]
  },
  {
   "cell_type": "code",
   "execution_count": 2,
   "metadata": {},
   "outputs": [],
   "source": [
    "## Get recent data for english news from the U.S.\n",
    "data = []\n",
    "for page in range(100):\n",
    "    params= {\n",
    "        \"langauges\":\"en\",\n",
    "        \"countries\":\"us\",\n",
    "        \"sort\":\"published_desc\",\n",
    "        \"limit\":100,\n",
    "        \"offset\": page*100\n",
    "    }\n",
    "    data.extend(get_news(params))\n",
    "\n",
    "## Get popular data for english news from the U.S.\n",
    "for page in range(100):\n",
    "    params= {\n",
    "        \"langauges\":\"en\",\n",
    "        \"countries\":\"us\",\n",
    "        \"sort\":\"popularity\",\n",
    "        \"limit\":100,\n",
    "        \"offset\": page*100\n",
    "    }\n",
    "    data.extend(get_news(params))"
   ]
  },
  {
   "cell_type": "code",
   "execution_count": 3,
   "metadata": {},
   "outputs": [],
   "source": [
    "df = pd.DataFrame(data).drop_duplicates()"
   ]
  },
  {
   "cell_type": "code",
   "execution_count": 4,
   "metadata": {},
   "outputs": [],
   "source": [
    "## Create the data folder if it doesn't exist\n",
    "import os\n",
    "if not os.path.exists(\"data\"):\n",
    "    os.mkdir(\"data\")"
   ]
  },
  {
   "cell_type": "code",
   "execution_count": 5,
   "metadata": {},
   "outputs": [
    {
     "data": {
      "text/html": [
       "<div>\n",
       "<style scoped>\n",
       "    .dataframe tbody tr th:only-of-type {\n",
       "        vertical-align: middle;\n",
       "    }\n",
       "\n",
       "    .dataframe tbody tr th {\n",
       "        vertical-align: top;\n",
       "    }\n",
       "\n",
       "    .dataframe thead th {\n",
       "        text-align: right;\n",
       "    }\n",
       "</style>\n",
       "<table border=\"1\" class=\"dataframe\">\n",
       "  <thead>\n",
       "    <tr style=\"text-align: right;\">\n",
       "      <th></th>\n",
       "      <th>author</th>\n",
       "      <th>title</th>\n",
       "      <th>description</th>\n",
       "      <th>url</th>\n",
       "      <th>source</th>\n",
       "      <th>image</th>\n",
       "      <th>category</th>\n",
       "      <th>language</th>\n",
       "      <th>country</th>\n",
       "      <th>published_at</th>\n",
       "    </tr>\n",
       "  </thead>\n",
       "  <tbody>\n",
       "    <tr>\n",
       "      <th>0</th>\n",
       "      <td>CNN Newssource</td>\n",
       "      <td>Bernie Sanders launches Senate probe into Amaz...</td>\n",
       "      <td>By Catherine Thorbecke, CNN (CNN) &amp;#8212; Sen....</td>\n",
       "      <td>https://krdo.com/money/cnn-business-consumer/2...</td>\n",
       "      <td>krdo</td>\n",
       "      <td>None</td>\n",
       "      <td>general</td>\n",
       "      <td>en</td>\n",
       "      <td>us</td>\n",
       "      <td>2023-06-21T02:03:53+00:00</td>\n",
       "    </tr>\n",
       "    <tr>\n",
       "      <th>1</th>\n",
       "      <td>Tech. Sgt. Emili Koonce</td>\n",
       "      <td>New commander accepts 8th OSS guidon [Image 6 ...</td>\n",
       "      <td>Lt. Col. Jonathan Kay, 8th Operations Support ...</td>\n",
       "      <td>https://www.dvidshub.net/image/7872081/new-com...</td>\n",
       "      <td>dvidshub</td>\n",
       "      <td>https://cdn.dvidshub.net/media/thumbs/photos/2...</td>\n",
       "      <td>general</td>\n",
       "      <td>en</td>\n",
       "      <td>us</td>\n",
       "      <td>2023-06-21T02:02:57+00:00</td>\n",
       "    </tr>\n",
       "    <tr>\n",
       "      <th>2</th>\n",
       "      <td>Patrick Ryan | USA Today</td>\n",
       "      <td>‘And Just Like That...’ stars talk Season 2, K...</td>\n",
       "      <td>Sarah Jessica Parker and John Corbett are show...</td>\n",
       "      <td>https://chicago.suntimes.com/movies-and-tv/202...</td>\n",
       "      <td>suntimes</td>\n",
       "      <td>None</td>\n",
       "      <td>general</td>\n",
       "      <td>en</td>\n",
       "      <td>us</td>\n",
       "      <td>2023-06-21T02:02:55+00:00</td>\n",
       "    </tr>\n",
       "    <tr>\n",
       "      <th>3</th>\n",
       "      <td>Jim Ryan, Contributor</td>\n",
       "      <td>Dead And Company Put Their Spin On Motown As F...</td>\n",
       "      <td>On stage in Chicago, with Blues Fest taking pl...</td>\n",
       "      <td>https://www.forbes.com/sites/jimryan1/2023/06/...</td>\n",
       "      <td>Forbes</td>\n",
       "      <td>https://imageio.forbes.com/specials-images/ima...</td>\n",
       "      <td>general</td>\n",
       "      <td>en</td>\n",
       "      <td>us</td>\n",
       "      <td>2023-06-21T02:02:53+00:00</td>\n",
       "    </tr>\n",
       "    <tr>\n",
       "      <th>4</th>\n",
       "      <td>Tech. Sgt. Emili Koonce</td>\n",
       "      <td>New commander accepts 8th OSS guidon [Image 5 ...</td>\n",
       "      <td>Lt. Col. John Ryan, left, 8th Operations Group...</td>\n",
       "      <td>https://www.dvidshub.net/image/7872080/new-com...</td>\n",
       "      <td>dvidshub</td>\n",
       "      <td>https://cdn.dvidshub.net/media/thumbs/photos/2...</td>\n",
       "      <td>general</td>\n",
       "      <td>en</td>\n",
       "      <td>us</td>\n",
       "      <td>2023-06-21T02:02:16+00:00</td>\n",
       "    </tr>\n",
       "  </tbody>\n",
       "</table>\n",
       "</div>"
      ],
      "text/plain": [
       "                     author  \\\n",
       "0            CNN Newssource   \n",
       "1   Tech. Sgt. Emili Koonce   \n",
       "2  Patrick Ryan | USA Today   \n",
       "3     Jim Ryan, Contributor   \n",
       "4   Tech. Sgt. Emili Koonce   \n",
       "\n",
       "                                               title  \\\n",
       "0  Bernie Sanders launches Senate probe into Amaz...   \n",
       "1  New commander accepts 8th OSS guidon [Image 6 ...   \n",
       "2  ‘And Just Like That...’ stars talk Season 2, K...   \n",
       "3  Dead And Company Put Their Spin On Motown As F...   \n",
       "4  New commander accepts 8th OSS guidon [Image 5 ...   \n",
       "\n",
       "                                         description  \\\n",
       "0  By Catherine Thorbecke, CNN (CNN) &#8212; Sen....   \n",
       "1  Lt. Col. Jonathan Kay, 8th Operations Support ...   \n",
       "2  Sarah Jessica Parker and John Corbett are show...   \n",
       "3  On stage in Chicago, with Blues Fest taking pl...   \n",
       "4  Lt. Col. John Ryan, left, 8th Operations Group...   \n",
       "\n",
       "                                                 url    source  \\\n",
       "0  https://krdo.com/money/cnn-business-consumer/2...      krdo   \n",
       "1  https://www.dvidshub.net/image/7872081/new-com...  dvidshub   \n",
       "2  https://chicago.suntimes.com/movies-and-tv/202...  suntimes   \n",
       "3  https://www.forbes.com/sites/jimryan1/2023/06/...    Forbes   \n",
       "4  https://www.dvidshub.net/image/7872080/new-com...  dvidshub   \n",
       "\n",
       "                                               image category language  \\\n",
       "0                                               None  general       en   \n",
       "1  https://cdn.dvidshub.net/media/thumbs/photos/2...  general       en   \n",
       "2                                               None  general       en   \n",
       "3  https://imageio.forbes.com/specials-images/ima...  general       en   \n",
       "4  https://cdn.dvidshub.net/media/thumbs/photos/2...  general       en   \n",
       "\n",
       "  country               published_at  \n",
       "0      us  2023-06-21T02:03:53+00:00  \n",
       "1      us  2023-06-21T02:02:57+00:00  \n",
       "2      us  2023-06-21T02:02:55+00:00  \n",
       "3      us  2023-06-21T02:02:53+00:00  \n",
       "4      us  2023-06-21T02:02:16+00:00  "
      ]
     },
     "execution_count": 5,
     "metadata": {},
     "output_type": "execute_result"
    }
   ],
   "source": [
    "df.head()"
   ]
  },
  {
   "cell_type": "code",
   "execution_count": 6,
   "metadata": {},
   "outputs": [
    {
     "data": {
      "text/plain": [
       "category\n",
       "general          9327\n",
       "sports           4475\n",
       "business         4415\n",
       "science           480\n",
       "technology        274\n",
       "entertainment     228\n",
       "politics           35\n",
       "health              7\n",
       "Name: count, dtype: int64"
      ]
     },
     "execution_count": 6,
     "metadata": {},
     "output_type": "execute_result"
    }
   ],
   "source": [
    "df['category'].value_counts(dropna=False)"
   ]
  },
  {
   "cell_type": "code",
   "execution_count": 7,
   "metadata": {},
   "outputs": [],
   "source": [
    "## It looks like health, politics, entertainment, technology, and science are underrepresented, so let's get more articles from those specific categories\n",
    "##  I'm doing this so that our training data isn't too imbalanced.\n",
    "for page in range(25):\n",
    "    params= {\n",
    "        \"langauges\":\"en\",\n",
    "        \"countries\":\"us\",\n",
    "        \"categories\":\"health,politics,entertainment,technology,science\",\n",
    "        \"sort\":\"popularity\",\n",
    "        \"limit\":100,\n",
    "        \"offset\": page*100\n",
    "    }\n",
    "    data.extend(get_news(params))\n",
    "    \n",
    "for page in range(25):\n",
    "    params= {\n",
    "        \"langauges\":\"en\",\n",
    "        \"countries\":\"us\",\n",
    "        \"categories\":\"health,politics,entertainment,technology,science\",\n",
    "        \"sort\":\"published_desc\",\n",
    "        \"limit\":100,\n",
    "        \"offset\": page*100\n",
    "    }\n",
    "    data.extend(get_news(params))"
   ]
  },
  {
   "cell_type": "code",
   "execution_count": 8,
   "metadata": {},
   "outputs": [
    {
     "data": {
      "text/plain": [
       "category\n",
       "general          9387\n",
       "sports           4773\n",
       "business         4746\n",
       "science          2642\n",
       "technology       1671\n",
       "entertainment    1490\n",
       "politics          241\n",
       "health             50\n",
       "Name: count, dtype: int64"
      ]
     },
     "execution_count": 8,
     "metadata": {},
     "output_type": "execute_result"
    }
   ],
   "source": [
    "pd.DataFrame(data)['category'].value_counts()"
   ]
  },
  {
   "cell_type": "code",
   "execution_count": 15,
   "metadata": {},
   "outputs": [],
   "source": [
    "## It looks like politics and health are still underrepresented, so let's get more articles\n",
    "for page in range(50):\n",
    "    params= {\n",
    "        \"langauges\":\"en\",\n",
    "        \"countries\":\"us\",\n",
    "        \"categories\":\"politics,health\",\n",
    "        \"sort\":\"popularity\",\n",
    "        \"limit\":100,\n",
    "        \"offset\": page*100\n",
    "    }\n",
    "    data.extend(get_news(params))\n",
    "    \n",
    "for page in range(50):\n",
    "    params= {\n",
    "        \"langauges\":\"en\",\n",
    "        \"countries\":\"us\",\n",
    "        \"categories\":\"politics,health\",\n",
    "        \"sort\":\"published_desc\",\n",
    "        \"limit\":100,\n",
    "        \"offset\": page*100\n",
    "    }\n",
    "    data.extend(get_news(params))"
   ]
  },
  {
   "cell_type": "code",
   "execution_count": 16,
   "metadata": {},
   "outputs": [
    {
     "data": {
      "text/plain": [
       "category\n",
       "general          9327\n",
       "sports           4475\n",
       "business         4415\n",
       "science          2019\n",
       "technology       1322\n",
       "entertainment    1221\n",
       "politics          693\n",
       "health            153\n",
       "Name: count, dtype: int64"
      ]
     },
     "execution_count": 16,
     "metadata": {},
     "output_type": "execute_result"
    }
   ],
   "source": [
    "pd.DataFrame(data).drop_duplicates()['category'].value_counts()"
   ]
  },
  {
   "cell_type": "code",
   "execution_count": 17,
   "metadata": {},
   "outputs": [],
   "source": [
    "pd.DataFrame(data).drop_duplicates().to_csv(\"data/english_news.csv\", index=False)"
   ]
  },
  {
   "cell_type": "code",
   "execution_count": null,
   "metadata": {},
   "outputs": [],
   "source": []
  }
 ],
 "metadata": {
  "kernelspec": {
   "display_name": "transcrypt",
   "language": "python",
   "name": "python3"
  },
  "language_info": {
   "codemirror_mode": {
    "name": "ipython",
    "version": 3
   },
   "file_extension": ".py",
   "mimetype": "text/x-python",
   "name": "python",
   "nbconvert_exporter": "python",
   "pygments_lexer": "ipython3",
   "version": "3.11.4"
  },
  "orig_nbformat": 4
 },
 "nbformat": 4,
 "nbformat_minor": 2
}
